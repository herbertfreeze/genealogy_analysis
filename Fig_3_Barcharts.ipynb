{
 "cells": [
  {
   "cell_type": "code",
   "execution_count": 1,
   "metadata": {},
   "outputs": [],
   "source": [
    "import pandas as pd\n",
    "import networkx as nx\n",
    "from collections import defaultdict, Counter\n",
    "import numpy as np\n",
    "import re\n",
    "import matplotlib.pyplot as plt\n",
    "import seaborn as sns\n",
    "import matplotlib"
   ]
  },
  {
   "cell_type": "markdown",
   "metadata": {},
   "source": [
    "# Load and Process All Graphs"
   ]
  },
  {
   "cell_type": "code",
   "execution_count": 2,
   "metadata": {},
   "outputs": [],
   "source": [
    "# Load Data Tables\n",
    "academic     = pd.read_csv(\"data/academic.tsv\",sep='\\t')\n",
    "advises      = pd.read_csv(\"data/advises.tsv\",sep='\\t')\n",
    "degree_grant = pd.read_csv(\"data/degree_grant.tsv\",sep='\\t')\n",
    "school       = pd.read_csv(\"data/school.tsv\", sep='\\t')\n",
    "country      = pd.read_csv(\"data/country.tsv\", sep='\\t')\n",
    "degree1 = pd.read_csv(\"data/new_degree.tsv\", sep='\\t',keep_default_na=True)\n",
    "\n",
    "academic[\"Full_Name\"] = academic.given_name + \" \" + academic.family_name\n",
    "\n",
    "# Make Adjacency List & Graph\n",
    "adj_list = list(zip(advises[\"advisor\"], advises[\"advisee\"]))\n",
    "G = nx.DiGraph()\n",
    "G.add_edges_from(adj_list)\n",
    "G_undirect = G.to_undirected()\n",
    "\n",
    "Fullname2ID = pd.Series(academic.academic_id.values, index=academic.Full_Name).to_dict()\n",
    "ID2Name = pd.Series(academic.Full_Name.values,index=academic.academic_id).to_dict()\n",
    "country2CN = pd.Series(country.country_name.values,index=country.country_id).to_dict()\n",
    "nx.set_node_attributes(G, ID2Name, 'full_name')"
   ]
  },
  {
   "cell_type": "markdown",
   "metadata": {},
   "source": [
    "## Medalist extraction and shortest path extraction"
   ]
  },
  {
   "cell_type": "code",
   "execution_count": 4,
   "metadata": {},
   "outputs": [],
   "source": [
    "medalists     = pd.read_csv(\"data/medalists.csv\",sep=',')\n",
    "medalist_IDs = []\n",
    "\n",
    "for i in medalists.Winner.values:\n",
    "    ID = Fullname2ID[i]\n",
    "    if i == \"Paul Cohen\":\n",
    "        ID = 6479\n",
    "    if i == \"Michael Freedman\":\n",
    "        ID = 1365\n",
    "    if i == \"Alan Baker\":\n",
    "        ID = 22765\n",
    "    \n",
    "    if ID == 230591:\n",
    "        ID = 93772\n",
    "    if ID == 245820:\n",
    "        ID = 15779\n",
    "    if ID == 211588:\n",
    "        ID = 6488\n",
    "    G.nodes()[ID][\"medalist\"] = 1\n",
    "    medalist_IDs.append(ID)\n",
    "\n",
    "med_adj_list = []\n",
    "for i in medalist_IDs:\n",
    "    for j in medalist_IDs:\n",
    "        if (i,j) in adj_list:\n",
    "            med_adj_list.append((i,j))\n",
    "# Gives nodes in subgraph\n",
    "subgraph = defaultdict(int)\n",
    "for i, a in enumerate(medalist_IDs):\n",
    "    subgraph[a] = 1\n",
    "    for j, b in enumerate(medalist_IDs[i+1:]):\n",
    "        if nx.has_path(G_undirect,a,b):\n",
    "            path_nodes = nx.shortest_path(G_undirect,a,b)\n",
    "            for p in path_nodes:\n",
    "                subgraph[p] = 1"
   ]
  },
  {
   "cell_type": "markdown",
   "metadata": {},
   "source": [
    "#### Subgraph Extraction"
   ]
  },
  {
   "cell_type": "code",
   "execution_count": 13,
   "metadata": {},
   "outputs": [],
   "source": [
    "subgraph_nodes = list(subgraph.keys())\n",
    "K = G.subgraph(subgraph_nodes)\n",
    "M = G.subgraph(medalist_IDs)"
   ]
  },
  {
   "cell_type": "markdown",
   "metadata": {},
   "source": [
    "# Distributions"
   ]
  },
  {
   "cell_type": "markdown",
   "metadata": {},
   "source": [
    "# Wiki Fullname"
   ]
  },
  {
   "cell_type": "code",
   "execution_count": 8,
   "metadata": {},
   "outputs": [],
   "source": [
    "WIKI_FULL = pd.read_pickle(\"data/wiki_fullname.pkl\")\n",
    "Wiki_General = defaultdict(int)\n",
    "Wiki_Specific = defaultdict(int)\n",
    "\n",
    "for i, row in WIKI_FULL.iterrows():\n",
    "    n = row.race\n",
    "    general_region = n.split(\",\")[0] \n",
    "    specif_region  = n.split(\",\")[-1] \n",
    "    if specif_region == \"Jewish\":\n",
    "        n = (row.iloc[4:].sort_values(ascending = False).index[1] )\n",
    "        specif_region  = n.split(\",\")[-1]\n",
    "\n",
    "    if specif_region == \"Muslim\":\n",
    "        specif_region = \"Arabic\"\n",
    "    elif specif_region == \"Hispanic\":\n",
    "        specif_region = \"Spanish\"\n",
    "    elif specif_region == \"British\":\n",
    "        specif_region = \"Anglo\"\n",
    "    Wiki_General[ row.academic_id ]  = general_region\n",
    "    Wiki_Specific[ row.academic_id ] = specif_region"
   ]
  },
  {
   "cell_type": "code",
   "execution_count": 19,
   "metadata": {},
   "outputs": [
    {
     "data": {
      "text/plain": [
       "Text(0.5, 0, 'Representation (%)')"
      ]
     },
     "execution_count": 19,
     "metadata": {},
     "output_type": "execute_result"
    },
    {
     "data": {
      "image/png": "[encoded data removed]",
      "text/plain": [
       "<Figure size 720x720 with 1 Axes>"
      ]
     },
     "metadata": {
      "needs_background": "light"
     },
     "output_type": "display_data"
    }
   ],
   "source": [
    "plt.figure(figsize=(10,10))\n",
    "width = 0.2\n",
    "G_distrib = [Wiki_Specific[n] for n in G.nodes()]\n",
    "K_distrib = [Wiki_Specific[n] for n in K.nodes()]\n",
    "M_distrib = [Wiki_Specific[n] for n in M.nodes()]\n",
    "\n",
    "GG = Counter(G_distrib)\n",
    "KK = Counter(K_distrib)\n",
    "MM = Counter(M_distrib)\n",
    "x = np.arange(len(GG.keys()))\n",
    "GG_list = []\n",
    "KK_list = []\n",
    "MM_list = []\n",
    "for k in GG.keys():\n",
    "    GG_list.append( GG[k] / nx.number_of_nodes(G) )\n",
    "    KK_list.append( KK[k] / nx.number_of_nodes(K) )\n",
    "    MM_list.append( MM[k] / nx.number_of_nodes(M) )\n",
    "\n",
    "ylabs = list(GG.keys())\n",
    "ylabs[5] = \"Indian\"\n",
    "ylabs[7] = \"African\"\n",
    "ylabs[10]= \"EastEurope\"\n",
    "    \n",
    "matplotlib.rc('xtick', labelsize=10) \n",
    "plt.barh(x-0.2, GG_list , width, label = \"All\", alpha = 0.4)\n",
    "plt.barh(x, KK_list , width, label = \"Elite Comm.\", alpha = 0.4)\n",
    "plt.barh(x+0.2, MM_list , width, label = \"Medalists\", alpha = 0.4)\n",
    "plt.xticks([0,0.1,0.2,0.3,0.4],[0,0.1,0.2,0.3,0.4],fontsize=16)\n",
    "plt.yticks(x, ylabs,fontsize=16)\n",
    "plt.legend(fontsize=16)\n",
    "plt.xlabel(\"Representation (%)\", fontsize=20)"
   ]
  }
 ],
 "metadata": {
  "kernelspec": {
   "display_name": "Python 3",
   "language": "python",
   "name": "python3"
  },
  "language_info": {
   "codemirror_mode": {
    "name": "ipython",
    "version": 3
   },
   "file_extension": ".py",
   "mimetype": "text/x-python",
   "name": "python",
   "nbconvert_exporter": "python",
   "pygments_lexer": "ipython3",
   "version": "3.7.4"
  }
 },
 "nbformat": 4,
 "nbformat_minor": 2
}
