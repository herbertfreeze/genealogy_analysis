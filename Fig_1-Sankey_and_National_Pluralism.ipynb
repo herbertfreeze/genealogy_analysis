{
 "cells": [
  {
   "cell_type": "code",
   "execution_count": 1,
   "metadata": {},
   "outputs": [],
   "source": [
    "import plotly.graph_objects as go\n",
    "import pandas as pd\n",
    "import networkx as nx\n",
    "from collections import defaultdict, Counter\n",
    "import numpy as np\n",
    "import pdb\n",
    "import re\n",
    "import matplotlib.pyplot as plt\n",
    "import seaborn as sns\n",
    "import matplotlib"
   ]
  },
  {
   "cell_type": "code",
   "execution_count": 12,
   "metadata": {},
   "outputs": [],
   "source": [
    "advises = pd.read_csv(\"data/advises.tsv\",sep='\\t')\n",
    "academic     = pd.read_csv(\"data/academic.tsv\",sep='\\t')\n",
    "degree_grant = pd.read_csv(\"data/degree_grant.tsv\",sep='\\t')\n",
    "school       = pd.read_csv(\"data/school.tsv\", sep='\\t')\n",
    "country      = pd.read_csv(\"data/country.tsv\", sep='\\t')\n",
    "country2CN = pd.Series(country.country_name.values,index=country.country_id).to_dict()\n",
    "\n",
    "degree1 = pd.read_csv(\"data/new_degree.tsv\", sep='\\t',keep_default_na=True)\n",
    "degree = degree1.dropna(subset=[\"year\"])\n",
    "\n",
    "## Gives Full Name\n",
    "full_name = academic.given_name + \" \" + academic.family_name\n",
    "fam_name_D = pd.Series(academic.family_name.values,index=academic.academic_id).to_dict()\n",
    "given_name_D = pd.Series(academic.given_name.values,index=academic.academic_id).to_dict()\n",
    "academic[\"Full_Name\"] = full_name\n",
    "Fullname2ID = pd.Series(academic.academic_id.values, index=academic.Full_Name).to_dict()\n",
    "full_name_D = pd.Series(full_name.values,index=academic.academic_id).to_dict()\n",
    "\n",
    "academic2degree = pd.Series(degree1.degree_id.values,index=degree1.academic).to_dict()\n",
    "degree2school   = pd.Series(degree_grant.school.values,index=degree_grant.degree).to_dict()\n",
    "school2country  = pd.Series(school.country.values,index=school.school_id).to_dict()\n",
    "school2SchName  = pd.Series(school.school_name.values,index=school.school_id).to_dict()"
   ]
  },
  {
   "cell_type": "code",
   "execution_count": 13,
   "metadata": {},
   "outputs": [],
   "source": [
    "adj_list = list(zip(advises[\"advisee\"], advises[\"advisor\"]))\n",
    "G = nx.DiGraph()\n",
    "G.add_edges_from(adj_list)\n",
    "\n",
    "nx.set_node_attributes(G, full_name_D, 'full_name')\n",
    "G_undirect = G.to_undirected()"
   ]
  },
  {
   "cell_type": "code",
   "execution_count": 3,
   "metadata": {},
   "outputs": [],
   "source": [
    "medalists     = pd.read_csv(\"data/medalists.csv\",sep=',')\n",
    "medalist_IDs = []\n",
    "\n",
    "for i in medalists.Winner.values:\n",
    "    ID = Fullname2ID[i]\n",
    "    if i == \"Paul Cohen\":\n",
    "        ID = 6479\n",
    "    if i == \"Michael Freedman\":\n",
    "        ID = 1365\n",
    "    if i == \"Alan Baker\":\n",
    "        ID = 22765\n",
    "    \n",
    "    if ID == 230591:\n",
    "        ID = 93772\n",
    "    if ID == 245820:\n",
    "        ID = 15779\n",
    "    if ID == 211588:\n",
    "        ID = 6488\n",
    "    G.nodes()[ID][\"medalist\"] = 1\n",
    "    medalist_IDs.append(ID)\n",
    "    \n",
    "med_adj_list = []\n",
    "for i in medalist_IDs:\n",
    "    for j in medalist_IDs:\n",
    "        if (i,j) in adj_list:\n",
    "            med_adj_list.append((i,j))\n",
    "# Gives nodes in subgraph\n",
    "subgraph = defaultdict(int)\n",
    "for i, a in enumerate(medalist_IDs):\n",
    "    subgraph[a] = 1\n",
    "    for j, b in enumerate(medalist_IDs[i+1:]):\n",
    "        if nx.has_path(G_undirect,a,b):\n",
    "            path_nodes = nx.shortest_path(G_undirect,a,b)\n",
    "            for p in path_nodes:\n",
    "                subgraph[p] = 1"
   ]
  },
  {
   "cell_type": "code",
   "execution_count": 14,
   "metadata": {},
   "outputs": [],
   "source": [
    "subgraph_nodes = list(subgraph.keys())\n",
    "K = G.subgraph(subgraph_nodes)\n",
    "M = G.subgraph(medalist_IDs)"
   ]
  },
  {
   "cell_type": "code",
   "execution_count": 15,
   "metadata": {
    "collapsed": true
   },
   "outputs": [
    {
     "name": "stderr",
     "output_type": "stream",
     "text": [
      "C:\\Users\\Herbert\\AppData\\Local\\Continuum\\anaconda3\\lib\\site-packages\\ipykernel_launcher.py:7: SettingWithCopyWarning:\n",
      "\n",
      "\n",
      "A value is trying to be set on a copy of a slice from a DataFrame.\n",
      "Try using .loc[row_indexer,col_indexer] = value instead\n",
      "\n",
      "See the caveats in the documentation: http://pandas.pydata.org/pandas-docs/stable/user_guide/indexing.html#returning-a-view-versus-a-copy\n",
      "\n",
      "C:\\Users\\Herbert\\AppData\\Local\\Continuum\\anaconda3\\lib\\site-packages\\ipykernel_launcher.py:8: SettingWithCopyWarning:\n",
      "\n",
      "\n",
      "A value is trying to be set on a copy of a slice from a DataFrame.\n",
      "Try using .loc[row_indexer,col_indexer] = value instead\n",
      "\n",
      "See the caveats in the documentation: http://pandas.pydata.org/pandas-docs/stable/user_guide/indexing.html#returning-a-view-versus-a-copy\n",
      "\n"
     ]
    }
   ],
   "source": [
    "def extract_year(x):\n",
    "    try:\n",
    "        return int(x[:4])\n",
    "    except:\n",
    "        return 0\n",
    "degree2 = degree1.dropna(subset=[\"year\"])\n",
    "degree2[\"year\"] = degree2.year.apply(extract_year)\n",
    "degree2[\"year\"] = degree2[\"year\"].astype(int)\n",
    "degree3 = degree2[degree2['academic'].isin(list(K.nodes))]"
   ]
  },
  {
   "cell_type": "markdown",
   "metadata": {},
   "source": [
    "## Sankey"
   ]
  },
  {
   "cell_type": "code",
   "execution_count": 27,
   "metadata": {},
   "outputs": [],
   "source": [
    "accept_list = [\"United States\", \"Russia\", \"Germany\", \"Japan\", \"Italy\"]\n",
    "\n",
    "def ID2country(n1):\n",
    "    try:\n",
    "        degree_id  = academic2degree[n1]\n",
    "        school_id  = degree2school[ degree_id ]\n",
    "        country_id = school2country[ school_id ] \n",
    "        return country2CN[country_id]\n",
    "    except:\n",
    "        if n1 == 56371:\n",
    "            return \"Germany\" \n",
    "        \n",
    "def ID2country_adjusted(x):\n",
    "    c = accept_list(x)\n",
    "    if c in accepted_list:\n",
    "        return c\n",
    "    else:\n",
    "        return \"Other\"\n",
    "periods = [1800,1932, 1946,  1965, 1990, 2019]\n",
    "\n",
    "acc2ind = dict(zip(accept_list,range(len(accept_list))))\n",
    "conf_dict = dict(zip( accept_list, np.ones(len(accept_list),dtype = bool) ))\n",
    "conf_dict = defaultdict(bool, conf_dict)\n",
    "\n",
    "P1 = degree3[(degree3.year > periods[0]) & (degree3.year < periods[1])].academic.values\n",
    "P2 = degree3[(degree3.year > periods[1]) & (degree3.year < periods[2])].academic.values\n",
    "P3 = degree3[(degree3.year > periods[2]) & (degree3.year < periods[3])].academic.values\n",
    "P4 = degree3[(degree3.year > periods[3]) & (degree3.year < periods[4])].academic.values\n",
    "P5 = degree3[(degree3.year > periods[4]) & (degree3.year < periods[5])].academic.values\n",
    "P_list = [P1, P2, P3, P4,P5]"
   ]
  },
  {
   "cell_type": "code",
   "execution_count": 28,
   "metadata": {},
   "outputs": [],
   "source": [
    "surs = []\n",
    "targ = []\n",
    "vals = []\n",
    "for ind in range(5):\n",
    "    edges_c = defaultdict(int)\n",
    "    node_size = defaultdict(int)\n",
    "\n",
    "    KK = K.subgraph(P_list[ind])\n",
    "    for n in KK.nodes():\n",
    "        neighbors = K.neighbors(n)\n",
    "        for nei in neighbors:\n",
    "            try:\n",
    "                edge_tuple = (ID2country(nei) , ID2country(n)  ) # swapped for advisee-advisor direction\n",
    "                edges_c[edge_tuple] += 1\n",
    "            except:\n",
    "                pass\n",
    "\n",
    "    D = sorted(edges_c.items(), key=lambda x: x[1], reverse=True)\n",
    "    val_dict = defaultdict(int)\n",
    "    for d in D:\n",
    "        head, tail = d[0][0], d[0][1]\n",
    "        if not conf_dict[head]:\n",
    "            continue\n",
    "            head = \"Other\"\n",
    "        if not conf_dict[tail]:\n",
    "            continue\n",
    "            tail = \"Other\"\n",
    "        val_dict[(head,tail)] += d[1]\n",
    "    ind = 0\n",
    "\n",
    "    sources, targets = zip(*list(val_dict.keys()))\n",
    "\n",
    "    vals_list = [  val_dict[(sources[i], targets[i])] for i in range(len(sources))  ]\n",
    "\n",
    "    s1 = [acc2ind[k] + ind*len(accept_list) for k in sources]\n",
    "    t1 = [acc2ind[k] + (ind+1)*len(accept_list) for k in targets] # the +1 is because \"other\" not added in\n",
    "\n",
    "    surs.append(s1)\n",
    "    targ.append(t1)\n",
    "    vals.append(vals_list)\n",
    "    \n",
    "surs_link, targ_link, vals_link = [], [], []\n",
    "for i in range(len(accept_list)):\n",
    "    shift = i*len(accept_list)\n",
    "    surs[i] = [j + shift for j in surs[i]]\n",
    "    targ[i] = [j + shift for j in targ[i]]\n",
    "    \n",
    "    surs_link += surs[i]\n",
    "    targ_link += targ[i]\n",
    "    vals_link += vals[i]    "
   ]
  },
  {
   "cell_type": "code",
   "execution_count": 29,
   "metadata": {},
   "outputs": [],
   "source": [
    "label_short = {\"Russia\": \"RUS\", \"Italy\": \"ITA\", \"United States\": \"USA\", \"Germany\":\" GER\", \"Japan\":\"JAP\"}"
   ]
  },
  {
   "cell_type": "code",
   "execution_count": 30,
   "metadata": {},
   "outputs": [],
   "source": [
    "concaters = []\n",
    "for p in periods:\n",
    "    for n in accept_list:\n",
    "        concaters.append(  label_short[n] + \"-\" + str(p)  )"
   ]
  },
  {
   "cell_type": "code",
   "execution_count": 31,
   "metadata": {},
   "outputs": [],
   "source": [
    "x = np.repeat(x,len(accept_list)) / 6\n",
    "y = np.array([1,5,6,7,8]*6)/9"
   ]
  },
  {
   "cell_type": "code",
   "execution_count": 25,
   "metadata": {},
   "outputs": [
    {
     "data": {
      "application/vnd.plotly.v1+json": {
       "config": {
        "plotlyServerURL": "https://plot.ly"
       },
       "data": [
        {
         "link": {
          "source": [
           2,
           4,
           0,
           1,
           2,
           3,
           2,
           5,
           7,
           6,
           7,
           9,
           8,
           6,
           7,
           9,
           10,
           11,
           12,
           12,
           14,
           13,
           14,
           13,
           12,
           10,
           15,
           16,
           17,
           19,
           18,
           17,
           18,
           16,
           15,
           15,
           20,
           22,
           21,
           24,
           21,
           23,
           21,
           20,
           20,
           20,
           22,
           23,
           22,
           23,
           24,
           24,
           20,
           21,
           23
          ],
          "target": [
           7,
           9,
           5,
           6,
           5,
           8,
           8,
           10,
           12,
           11,
           10,
           14,
           13,
           10,
           14,
           10,
           15,
           16,
           17,
           15,
           15,
           18,
           19,
           15,
           16,
           17,
           20,
           21,
           22,
           24,
           23,
           20,
           20,
           20,
           22,
           23,
           25,
           27,
           25,
           29,
           26,
           28,
           27,
           27,
           29,
           26,
           25,
           25,
           29,
           29,
           27,
           25,
           28,
           29,
           27
          ],
          "value": [
           57,
           12,
           9,
           7,
           4,
           1,
           1,
           16,
           14,
           9,
           8,
           4,
           3,
           1,
           1,
           1,
           90,
           24,
           22,
           21,
           9,
           7,
           4,
           2,
           1,
           1,
           218,
           73,
           38,
           11,
           11,
           10,
           7,
           3,
           1,
           1,
           272,
           41,
           40,
           13,
           11,
           7,
           6,
           6,
           4,
           4,
           2,
           2,
           2,
           1,
           1,
           1,
           1,
           1,
           1
          ]
         },
         "node": {
          "label": [
           "USA-1800",
           "RUS-1800",
           " GER-1800",
           "JAP-1800",
           "ITA-1800",
           "USA-1932",
           "RUS-1932",
           " GER-1932",
           "JAP-1932",
           "ITA-1932",
           "USA-1946",
           "RUS-1946",
           " GER-1946",
           "JAP-1946",
           "ITA-1946",
           "USA-1965",
           "RUS-1965",
           " GER-1965",
           "JAP-1965",
           "ITA-1965",
           "USA-1990",
           "RUS-1990",
           " GER-1990",
           "JAP-1990",
           "ITA-1990",
           "USA-2019",
           "RUS-2019",
           " GER-2019",
           "JAP-2019",
           "ITA-2019"
          ],
          "pad": 15,
          "x": [
           0,
           0,
           0,
           0,
           0,
           0.16666666666666666,
           0.16666666666666666,
           0.16666666666666666,
           0.16666666666666666,
           0.16666666666666666,
           0.3333333333333333,
           0.3333333333333333,
           0.3333333333333333,
           0.3333333333333333,
           0.3333333333333333,
           0.5,
           0.5,
           0.5,
           0.5,
           0.5,
           0.6666666666666666,
           0.6666666666666666,
           0.6666666666666666,
           0.6666666666666666,
           0.6666666666666666,
           0.8333333333333334,
           0.8333333333333334,
           0.8333333333333334,
           0.8333333333333334,
           0.8333333333333334
          ],
          "y": [
           0.1111111111111111,
           0.5555555555555556,
           0.6666666666666666,
           0.7777777777777778,
           0.8888888888888888,
           0.1111111111111111,
           0.5555555555555556,
           0.6666666666666666,
           0.7777777777777778,
           0.8888888888888888,
           0.1111111111111111,
           0.5555555555555556,
           0.6666666666666666,
           0.7777777777777778,
           0.8888888888888888,
           0.1111111111111111,
           0.5555555555555556,
           0.6666666666666666,
           0.7777777777777778,
           0.8888888888888888,
           0.1111111111111111,
           0.5555555555555556,
           0.6666666666666666,
           0.7777777777777778,
           0.8888888888888888,
           0.1111111111111111,
           0.5555555555555556,
           0.6666666666666666,
           0.7777777777777778,
           0.8888888888888888
          ]
         },
         "type": "sankey"
        }
       ],
       "layout": {
        "font": {
         "size": 12
        },
        "template": {
         "data": {
          "bar": [
           {
            "error_x": {
             "color": "#2a3f5f"
            },
            "error_y": {
             "color": "#2a3f5f"
            },
            "marker": {
             "line": {
              "color": "#E5ECF6",
              "width": 0.5
             }
            },
            "type": "bar"
           }
          ],
          "barpolar": [
           {
            "marker": {
             "line": {
              "color": "#E5ECF6",
              "width": 0.5
             }
            },
            "type": "barpolar"
           }
          ],
          "carpet": [
           {
            "aaxis": {
             "endlinecolor": "#2a3f5f",
             "gridcolor": "white",
             "linecolor": "white",
             "minorgridcolor": "white",
             "startlinecolor": "#2a3f5f"
            },
            "baxis": {
             "endlinecolor": "#2a3f5f",
             "gridcolor": "white",
             "linecolor": "white",
             "minorgridcolor": "white",
             "startlinecolor": "#2a3f5f"
            },
            "type": "carpet"
           }
          ],
          "choropleth": [
           {
            "colorbar": {
             "outlinewidth": 0,
             "ticks": ""
            },
            "type": "choropleth"
           }
          ],
          "contour": [
           {
            "colorbar": {
             "outlinewidth": 0,
             "ticks": ""
            },
            "colorscale": [
             [
              0,
              "#0d0887"
             ],
             [
              0.1111111111111111,
              "#46039f"
             ],
             [
              0.2222222222222222,
              "#7201a8"
             ],
             [
              0.3333333333333333,
              "#9c179e"
             ],
             [
              0.4444444444444444,
              "#bd3786"
             ],
             [
              0.5555555555555556,
              "#d8576b"
             ],
             [
              0.6666666666666666,
              "#ed7953"
             ],
             [
              0.7777777777777778,
              "#fb9f3a"
             ],
             [
              0.8888888888888888,
              "#fdca26"
             ],
             [
              1,
              "#f0f921"
             ]
            ],
            "type": "contour"
           }
          ],
          "contourcarpet": [
           {
            "colorbar": {
             "outlinewidth": 0,
             "ticks": ""
            },
            "type": "contourcarpet"
           }
          ],
          "heatmap": [
           {
            "colorbar": {
             "outlinewidth": 0,
             "ticks": ""
            },
            "colorscale": [
             [
              0,
              "#0d0887"
             ],
             [
              0.1111111111111111,
              "#46039f"
             ],
             [
              0.2222222222222222,
              "#7201a8"
             ],
             [
              0.3333333333333333,
              "#9c179e"
             ],
             [
              0.4444444444444444,
              "#bd3786"
             ],
             [
              0.5555555555555556,
              "#d8576b"
             ],
             [
              0.6666666666666666,
              "#ed7953"
             ],
             [
              0.7777777777777778,
              "#fb9f3a"
             ],
             [
              0.8888888888888888,
              "#fdca26"
             ],
             [
              1,
              "#f0f921"
             ]
            ],
            "type": "heatmap"
           }
          ],
          "heatmapgl": [
           {
            "colorbar": {
             "outlinewidth": 0,
             "ticks": ""
            },
            "colorscale": [
             [
              0,
              "#0d0887"
             ],
             [
              0.1111111111111111,
              "#46039f"
             ],
             [
              0.2222222222222222,
              "#7201a8"
             ],
             [
              0.3333333333333333,
              "#9c179e"
             ],
             [
              0.4444444444444444,
              "#bd3786"
             ],
             [
              0.5555555555555556,
              "#d8576b"
             ],
             [
              0.6666666666666666,
              "#ed7953"
             ],
             [
              0.7777777777777778,
              "#fb9f3a"
             ],
             [
              0.8888888888888888,
              "#fdca26"
             ],
             [
              1,
              "#f0f921"
             ]
            ],
            "type": "heatmapgl"
           }
          ],
          "histogram": [
           {
            "marker": {
             "colorbar": {
              "outlinewidth": 0,
              "ticks": ""
             }
            },
            "type": "histogram"
           }
          ],
          "histogram2d": [
           {
            "colorbar": {
             "outlinewidth": 0,
             "ticks": ""
            },
            "colorscale": [
             [
              0,
              "#0d0887"
             ],
             [
              0.1111111111111111,
              "#46039f"
             ],
             [
              0.2222222222222222,
              "#7201a8"
             ],
             [
              0.3333333333333333,
              "#9c179e"
             ],
             [
              0.4444444444444444,
              "#bd3786"
             ],
             [
              0.5555555555555556,
              "#d8576b"
             ],
             [
              0.6666666666666666,
              "#ed7953"
             ],
             [
              0.7777777777777778,
              "#fb9f3a"
             ],
             [
              0.8888888888888888,
              "#fdca26"
             ],
             [
              1,
              "#f0f921"
             ]
            ],
            "type": "histogram2d"
           }
          ],
          "histogram2dcontour": [
           {
            "colorbar": {
             "outlinewidth": 0,
             "ticks": ""
            },
            "colorscale": [
             [
              0,
              "#0d0887"
             ],
             [
              0.1111111111111111,
              "#46039f"
             ],
             [
              0.2222222222222222,
              "#7201a8"
             ],
             [
              0.3333333333333333,
              "#9c179e"
             ],
             [
              0.4444444444444444,
              "#bd3786"
             ],
             [
              0.5555555555555556,
              "#d8576b"
             ],
             [
              0.6666666666666666,
              "#ed7953"
             ],
             [
              0.7777777777777778,
              "#fb9f3a"
             ],
             [
              0.8888888888888888,
              "#fdca26"
             ],
             [
              1,
              "#f0f921"
             ]
            ],
            "type": "histogram2dcontour"
           }
          ],
          "mesh3d": [
           {
            "colorbar": {
             "outlinewidth": 0,
             "ticks": ""
            },
            "type": "mesh3d"
           }
          ],
          "parcoords": [
           {
            "line": {
             "colorbar": {
              "outlinewidth": 0,
              "ticks": ""
             }
            },
            "type": "parcoords"
           }
          ],
          "pie": [
           {
            "automargin": true,
            "type": "pie"
           }
          ],
          "scatter": [
           {
            "marker": {
             "colorbar": {
              "outlinewidth": 0,
              "ticks": ""
             }
            },
            "type": "scatter"
           }
          ],
          "scatter3d": [
           {
            "line": {
             "colorbar": {
              "outlinewidth": 0,
              "ticks": ""
             }
            },
            "marker": {
             "colorbar": {
              "outlinewidth": 0,
              "ticks": ""
             }
            },
            "type": "scatter3d"
           }
          ],
          "scattercarpet": [
           {
            "marker": {
             "colorbar": {
              "outlinewidth": 0,
              "ticks": ""
             }
            },
            "type": "scattercarpet"
           }
          ],
          "scattergeo": [
           {
            "marker": {
             "colorbar": {
              "outlinewidth": 0,
              "ticks": ""
             }
            },
            "type": "scattergeo"
           }
          ],
          "scattergl": [
           {
            "marker": {
             "colorbar": {
              "outlinewidth": 0,
              "ticks": ""
             }
            },
            "type": "scattergl"
           }
          ],
          "scattermapbox": [
           {
            "marker": {
             "colorbar": {
              "outlinewidth": 0,
              "ticks": ""
             }
            },
            "type": "scattermapbox"
           }
          ],
          "scatterpolar": [
           {
            "marker": {
             "colorbar": {
              "outlinewidth": 0,
              "ticks": ""
             }
            },
            "type": "scatterpolar"
           }
          ],
          "scatterpolargl": [
           {
            "marker": {
             "colorbar": {
              "outlinewidth": 0,
              "ticks": ""
             }
            },
            "type": "scatterpolargl"
           }
          ],
          "scatterternary": [
           {
            "marker": {
             "colorbar": {
              "outlinewidth": 0,
              "ticks": ""
             }
            },
            "type": "scatterternary"
           }
          ],
          "surface": [
           {
            "colorbar": {
             "outlinewidth": 0,
             "ticks": ""
            },
            "colorscale": [
             [
              0,
              "#0d0887"
             ],
             [
              0.1111111111111111,
              "#46039f"
             ],
             [
              0.2222222222222222,
              "#7201a8"
             ],
             [
              0.3333333333333333,
              "#9c179e"
             ],
             [
              0.4444444444444444,
              "#bd3786"
             ],
             [
              0.5555555555555556,
              "#d8576b"
             ],
             [
              0.6666666666666666,
              "#ed7953"
             ],
             [
              0.7777777777777778,
              "#fb9f3a"
             ],
             [
              0.8888888888888888,
              "#fdca26"
             ],
             [
              1,
              "#f0f921"
             ]
            ],
            "type": "surface"
           }
          ],
          "table": [
           {
            "cells": {
             "fill": {
              "color": "#EBF0F8"
             },
             "line": {
              "color": "white"
             }
            },
            "header": {
             "fill": {
              "color": "#C8D4E3"
             },
             "line": {
              "color": "white"
             }
            },
            "type": "table"
           }
          ]
         },
         "layout": {
          "annotationdefaults": {
           "arrowcolor": "#2a3f5f",
           "arrowhead": 0,
           "arrowwidth": 1
          },
          "coloraxis": {
           "colorbar": {
            "outlinewidth": 0,
            "ticks": ""
           }
          },
          "colorscale": {
           "diverging": [
            [
             0,
             "#8e0152"
            ],
            [
             0.1,
             "#c51b7d"
            ],
            [
             0.2,
             "#de77ae"
            ],
            [
             0.3,
             "#f1b6da"
            ],
            [
             0.4,
             "#fde0ef"
            ],
            [
             0.5,
             "#f7f7f7"
            ],
            [
             0.6,
             "#e6f5d0"
            ],
            [
             0.7,
             "#b8e186"
            ],
            [
             0.8,
             "#7fbc41"
            ],
            [
             0.9,
             "#4d9221"
            ],
            [
             1,
             "#276419"
            ]
           ],
           "sequential": [
            [
             0,
             "#0d0887"
            ],
            [
             0.1111111111111111,
             "#46039f"
            ],
            [
             0.2222222222222222,
             "#7201a8"
            ],
            [
             0.3333333333333333,
             "#9c179e"
            ],
            [
             0.4444444444444444,
             "#bd3786"
            ],
            [
             0.5555555555555556,
             "#d8576b"
            ],
            [
             0.6666666666666666,
             "#ed7953"
            ],
            [
             0.7777777777777778,
             "#fb9f3a"
            ],
            [
             0.8888888888888888,
             "#fdca26"
            ],
            [
             1,
             "#f0f921"
            ]
           ],
           "sequentialminus": [
            [
             0,
             "#0d0887"
            ],
            [
             0.1111111111111111,
             "#46039f"
            ],
            [
             0.2222222222222222,
             "#7201a8"
            ],
            [
             0.3333333333333333,
             "#9c179e"
            ],
            [
             0.4444444444444444,
             "#bd3786"
            ],
            [
             0.5555555555555556,
             "#d8576b"
            ],
            [
             0.6666666666666666,
             "#ed7953"
            ],
            [
             0.7777777777777778,
             "#fb9f3a"
            ],
            [
             0.8888888888888888,
             "#fdca26"
            ],
            [
             1,
             "#f0f921"
            ]
           ]
          },
          "colorway": [
           "#636efa",
           "#EF553B",
           "#00cc96",
           "#ab63fa",
           "#FFA15A",
           "#19d3f3",
           "#FF6692",
           "#B6E880",
           "#FF97FF",
           "#FECB52"
          ],
          "font": {
           "color": "#2a3f5f"
          },
          "geo": {
           "bgcolor": "white",
           "lakecolor": "white",
           "landcolor": "#E5ECF6",
           "showlakes": true,
           "showland": true,
           "subunitcolor": "white"
          },
          "hoverlabel": {
           "align": "left"
          },
          "hovermode": "closest",
          "mapbox": {
           "style": "light"
          },
          "paper_bgcolor": "white",
          "plot_bgcolor": "#E5ECF6",
          "polar": {
           "angularaxis": {
            "gridcolor": "white",
            "linecolor": "white",
            "ticks": ""
           },
           "bgcolor": "#E5ECF6",
           "radialaxis": {
            "gridcolor": "white",
            "linecolor": "white",
            "ticks": ""
           }
          },
          "scene": {
           "xaxis": {
            "backgroundcolor": "#E5ECF6",
            "gridcolor": "white",
            "gridwidth": 2,
            "linecolor": "white",
            "showbackground": true,
            "ticks": "",
            "zerolinecolor": "white"
           },
           "yaxis": {
            "backgroundcolor": "#E5ECF6",
            "gridcolor": "white",
            "gridwidth": 2,
            "linecolor": "white",
            "showbackground": true,
            "ticks": "",
            "zerolinecolor": "white"
           },
           "zaxis": {
            "backgroundcolor": "#E5ECF6",
            "gridcolor": "white",
            "gridwidth": 2,
            "linecolor": "white",
            "showbackground": true,
            "ticks": "",
            "zerolinecolor": "white"
           }
          },
          "shapedefaults": {
           "line": {
            "color": "#2a3f5f"
           }
          },
          "ternary": {
           "aaxis": {
            "gridcolor": "white",
            "linecolor": "white",
            "ticks": ""
           },
           "baxis": {
            "gridcolor": "white",
            "linecolor": "white",
            "ticks": ""
           },
           "bgcolor": "#E5ECF6",
           "caxis": {
            "gridcolor": "white",
            "linecolor": "white",
            "ticks": ""
           }
          },
          "title": {
           "x": 0.05
          },
          "xaxis": {
           "automargin": true,
           "gridcolor": "white",
           "linecolor": "white",
           "ticks": "",
           "title": {
            "standoff": 15
           },
           "zerolinecolor": "white",
           "zerolinewidth": 2
          },
          "yaxis": {
           "automargin": true,
           "gridcolor": "white",
           "linecolor": "white",
           "ticks": "",
           "title": {
            "standoff": 15
           },
           "zerolinecolor": "white",
           "zerolinewidth": 2
          }
         }
        },
        "title": {
         "text": "Migration of Elite Mathematicians"
        }
       }
      },
      "text/html": [
       "<div>\n",
       "        \n",
       "        \n",
       "            <div id=\"ff2b1cad-c40c-453e-a30e-355daa454886\" class=\"plotly-graph-div\" style=\"height:525px; width:100%;\"></div>\n",
       "            <script type=\"text/javascript\">\n",
       "                require([\"plotly\"], function(Plotly) {\n",
       "                    window.PLOTLYENV=window.PLOTLYENV || {};\n",
       "                    \n",
       "                if (document.getElementById(\"ff2b1cad-c40c-453e-a30e-355daa454886\")) {\n",
       "                    Plotly.newPlot(\n",
       "                        'ff2b1cad-c40c-453e-a30e-355daa454886',\n",
       "                        [{\"link\": {\"source\": [2, 4, 0, 1, 2, 3, 2, 5, 7, 6, 7, 9, 8, 6, 7, 9, 10, 11, 12, 12, 14, 13, 14, 13, 12, 10, 15, 16, 17, 19, 18, 17, 18, 16, 15, 15, 20, 22, 21, 24, 21, 23, 21, 20, 20, 20, 22, 23, 22, 23, 24, 24, 20, 21, 23], \"target\": [7, 9, 5, 6, 5, 8, 8, 10, 12, 11, 10, 14, 13, 10, 14, 10, 15, 16, 17, 15, 15, 18, 19, 15, 16, 17, 20, 21, 22, 24, 23, 20, 20, 20, 22, 23, 25, 27, 25, 29, 26, 28, 27, 27, 29, 26, 25, 25, 29, 29, 27, 25, 28, 29, 27], \"value\": [57, 12, 9, 7, 4, 1, 1, 16, 14, 9, 8, 4, 3, 1, 1, 1, 90, 24, 22, 21, 9, 7, 4, 2, 1, 1, 218, 73, 38, 11, 11, 10, 7, 3, 1, 1, 272, 41, 40, 13, 11, 7, 6, 6, 4, 4, 2, 2, 2, 1, 1, 1, 1, 1, 1]}, \"node\": {\"label\": [\"USA-1800\", \"RUS-1800\", \" GER-1800\", \"JAP-1800\", \"ITA-1800\", \"USA-1932\", \"RUS-1932\", \" GER-1932\", \"JAP-1932\", \"ITA-1932\", \"USA-1946\", \"RUS-1946\", \" GER-1946\", \"JAP-1946\", \"ITA-1946\", \"USA-1965\", \"RUS-1965\", \" GER-1965\", \"JAP-1965\", \"ITA-1965\", \"USA-1990\", \"RUS-1990\", \" GER-1990\", \"JAP-1990\", \"ITA-1990\", \"USA-2019\", \"RUS-2019\", \" GER-2019\", \"JAP-2019\", \"ITA-2019\"], \"pad\": 15, \"x\": [0.0, 0.0, 0.0, 0.0, 0.0, 0.16666666666666666, 0.16666666666666666, 0.16666666666666666, 0.16666666666666666, 0.16666666666666666, 0.3333333333333333, 0.3333333333333333, 0.3333333333333333, 0.3333333333333333, 0.3333333333333333, 0.5, 0.5, 0.5, 0.5, 0.5, 0.6666666666666666, 0.6666666666666666, 0.6666666666666666, 0.6666666666666666, 0.6666666666666666, 0.8333333333333334, 0.8333333333333334, 0.8333333333333334, 0.8333333333333334, 0.8333333333333334], \"y\": [0.1111111111111111, 0.5555555555555556, 0.6666666666666666, 0.7777777777777778, 0.8888888888888888, 0.1111111111111111, 0.5555555555555556, 0.6666666666666666, 0.7777777777777778, 0.8888888888888888, 0.1111111111111111, 0.5555555555555556, 0.6666666666666666, 0.7777777777777778, 0.8888888888888888, 0.1111111111111111, 0.5555555555555556, 0.6666666666666666, 0.7777777777777778, 0.8888888888888888, 0.1111111111111111, 0.5555555555555556, 0.6666666666666666, 0.7777777777777778, 0.8888888888888888, 0.1111111111111111, 0.5555555555555556, 0.6666666666666666, 0.7777777777777778, 0.8888888888888888]}, \"type\": \"sankey\"}],\n",
       "                        {\"font\": {\"size\": 12}, \"template\": {\"data\": {\"bar\": [{\"error_x\": {\"color\": \"#2a3f5f\"}, \"error_y\": {\"color\": \"#2a3f5f\"}, \"marker\": {\"line\": {\"color\": \"#E5ECF6\", \"width\": 0.5}}, \"type\": \"bar\"}], \"barpolar\": [{\"marker\": {\"line\": {\"color\": \"#E5ECF6\", \"width\": 0.5}}, \"type\": \"barpolar\"}], \"carpet\": [{\"aaxis\": {\"endlinecolor\": \"#2a3f5f\", \"gridcolor\": \"white\", \"linecolor\": \"white\", \"minorgridcolor\": \"white\", \"startlinecolor\": \"#2a3f5f\"}, \"baxis\": {\"endlinecolor\": \"#2a3f5f\", \"gridcolor\": \"white\", \"linecolor\": \"white\", \"minorgridcolor\": \"white\", \"startlinecolor\": \"#2a3f5f\"}, \"type\": \"carpet\"}], \"choropleth\": [{\"colorbar\": {\"outlinewidth\": 0, \"ticks\": \"\"}, \"type\": \"choropleth\"}], \"contour\": [{\"colorbar\": {\"outlinewidth\": 0, \"ticks\": \"\"}, \"colorscale\": [[0.0, \"#0d0887\"], [0.1111111111111111, \"#46039f\"], [0.2222222222222222, \"#7201a8\"], [0.3333333333333333, \"#9c179e\"], [0.4444444444444444, \"#bd3786\"], [0.5555555555555556, \"#d8576b\"], [0.6666666666666666, \"#ed7953\"], [0.7777777777777778, \"#fb9f3a\"], [0.8888888888888888, \"#fdca26\"], [1.0, \"#f0f921\"]], \"type\": \"contour\"}], \"contourcarpet\": [{\"colorbar\": {\"outlinewidth\": 0, \"ticks\": \"\"}, \"type\": \"contourcarpet\"}], \"heatmap\": [{\"colorbar\": {\"outlinewidth\": 0, \"ticks\": \"\"}, \"colorscale\": [[0.0, \"#0d0887\"], [0.1111111111111111, \"#46039f\"], [0.2222222222222222, \"#7201a8\"], [0.3333333333333333, \"#9c179e\"], [0.4444444444444444, \"#bd3786\"], [0.5555555555555556, \"#d8576b\"], [0.6666666666666666, \"#ed7953\"], [0.7777777777777778, \"#fb9f3a\"], [0.8888888888888888, \"#fdca26\"], [1.0, \"#f0f921\"]], \"type\": \"heatmap\"}], \"heatmapgl\": [{\"colorbar\": {\"outlinewidth\": 0, \"ticks\": \"\"}, \"colorscale\": [[0.0, \"#0d0887\"], [0.1111111111111111, \"#46039f\"], [0.2222222222222222, \"#7201a8\"], [0.3333333333333333, \"#9c179e\"], [0.4444444444444444, \"#bd3786\"], [0.5555555555555556, \"#d8576b\"], [0.6666666666666666, \"#ed7953\"], [0.7777777777777778, \"#fb9f3a\"], [0.8888888888888888, \"#fdca26\"], [1.0, \"#f0f921\"]], \"type\": \"heatmapgl\"}], \"histogram\": [{\"marker\": {\"colorbar\": {\"outlinewidth\": 0, \"ticks\": \"\"}}, \"type\": \"histogram\"}], \"histogram2d\": [{\"colorbar\": {\"outlinewidth\": 0, \"ticks\": \"\"}, \"colorscale\": [[0.0, \"#0d0887\"], [0.1111111111111111, \"#46039f\"], [0.2222222222222222, \"#7201a8\"], [0.3333333333333333, \"#9c179e\"], [0.4444444444444444, \"#bd3786\"], [0.5555555555555556, \"#d8576b\"], [0.6666666666666666, \"#ed7953\"], [0.7777777777777778, \"#fb9f3a\"], [0.8888888888888888, \"#fdca26\"], [1.0, \"#f0f921\"]], \"type\": \"histogram2d\"}], \"histogram2dcontour\": [{\"colorbar\": {\"outlinewidth\": 0, \"ticks\": \"\"}, \"colorscale\": [[0.0, \"#0d0887\"], [0.1111111111111111, \"#46039f\"], [0.2222222222222222, \"#7201a8\"], [0.3333333333333333, \"#9c179e\"], [0.4444444444444444, \"#bd3786\"], [0.5555555555555556, \"#d8576b\"], [0.6666666666666666, \"#ed7953\"], [0.7777777777777778, \"#fb9f3a\"], [0.8888888888888888, \"#fdca26\"], [1.0, \"#f0f921\"]], \"type\": \"histogram2dcontour\"}], \"mesh3d\": [{\"colorbar\": {\"outlinewidth\": 0, \"ticks\": \"\"}, \"type\": \"mesh3d\"}], \"parcoords\": [{\"line\": {\"colorbar\": {\"outlinewidth\": 0, \"ticks\": \"\"}}, \"type\": \"parcoords\"}], \"pie\": [{\"automargin\": true, \"type\": \"pie\"}], \"scatter\": [{\"marker\": {\"colorbar\": {\"outlinewidth\": 0, \"ticks\": \"\"}}, \"type\": \"scatter\"}], \"scatter3d\": [{\"line\": {\"colorbar\": {\"outlinewidth\": 0, \"ticks\": \"\"}}, \"marker\": {\"colorbar\": {\"outlinewidth\": 0, \"ticks\": \"\"}}, \"type\": \"scatter3d\"}], \"scattercarpet\": [{\"marker\": {\"colorbar\": {\"outlinewidth\": 0, \"ticks\": \"\"}}, \"type\": \"scattercarpet\"}], \"scattergeo\": [{\"marker\": {\"colorbar\": {\"outlinewidth\": 0, \"ticks\": \"\"}}, \"type\": \"scattergeo\"}], \"scattergl\": [{\"marker\": {\"colorbar\": {\"outlinewidth\": 0, \"ticks\": \"\"}}, \"type\": \"scattergl\"}], \"scattermapbox\": [{\"marker\": {\"colorbar\": {\"outlinewidth\": 0, \"ticks\": \"\"}}, \"type\": \"scattermapbox\"}], \"scatterpolar\": [{\"marker\": {\"colorbar\": {\"outlinewidth\": 0, \"ticks\": \"\"}}, \"type\": \"scatterpolar\"}], \"scatterpolargl\": [{\"marker\": {\"colorbar\": {\"outlinewidth\": 0, \"ticks\": \"\"}}, \"type\": \"scatterpolargl\"}], \"scatterternary\": [{\"marker\": {\"colorbar\": {\"outlinewidth\": 0, \"ticks\": \"\"}}, \"type\": \"scatterternary\"}], \"surface\": [{\"colorbar\": {\"outlinewidth\": 0, \"ticks\": \"\"}, \"colorscale\": [[0.0, \"#0d0887\"], [0.1111111111111111, \"#46039f\"], [0.2222222222222222, \"#7201a8\"], [0.3333333333333333, \"#9c179e\"], [0.4444444444444444, \"#bd3786\"], [0.5555555555555556, \"#d8576b\"], [0.6666666666666666, \"#ed7953\"], [0.7777777777777778, \"#fb9f3a\"], [0.8888888888888888, \"#fdca26\"], [1.0, \"#f0f921\"]], \"type\": \"surface\"}], \"table\": [{\"cells\": {\"fill\": {\"color\": \"#EBF0F8\"}, \"line\": {\"color\": \"white\"}}, \"header\": {\"fill\": {\"color\": \"#C8D4E3\"}, \"line\": {\"color\": \"white\"}}, \"type\": \"table\"}]}, \"layout\": {\"annotationdefaults\": {\"arrowcolor\": \"#2a3f5f\", \"arrowhead\": 0, \"arrowwidth\": 1}, \"coloraxis\": {\"colorbar\": {\"outlinewidth\": 0, \"ticks\": \"\"}}, \"colorscale\": {\"diverging\": [[0, \"#8e0152\"], [0.1, \"#c51b7d\"], [0.2, \"#de77ae\"], [0.3, \"#f1b6da\"], [0.4, \"#fde0ef\"], [0.5, \"#f7f7f7\"], [0.6, \"#e6f5d0\"], [0.7, \"#b8e186\"], [0.8, \"#7fbc41\"], [0.9, \"#4d9221\"], [1, \"#276419\"]], \"sequential\": [[0.0, \"#0d0887\"], [0.1111111111111111, \"#46039f\"], [0.2222222222222222, \"#7201a8\"], [0.3333333333333333, \"#9c179e\"], [0.4444444444444444, \"#bd3786\"], [0.5555555555555556, \"#d8576b\"], [0.6666666666666666, \"#ed7953\"], [0.7777777777777778, \"#fb9f3a\"], [0.8888888888888888, \"#fdca26\"], [1.0, \"#f0f921\"]], \"sequentialminus\": [[0.0, \"#0d0887\"], [0.1111111111111111, \"#46039f\"], [0.2222222222222222, \"#7201a8\"], [0.3333333333333333, \"#9c179e\"], [0.4444444444444444, \"#bd3786\"], [0.5555555555555556, \"#d8576b\"], [0.6666666666666666, \"#ed7953\"], [0.7777777777777778, \"#fb9f3a\"], [0.8888888888888888, \"#fdca26\"], [1.0, \"#f0f921\"]]}, \"colorway\": [\"#636efa\", \"#EF553B\", \"#00cc96\", \"#ab63fa\", \"#FFA15A\", \"#19d3f3\", \"#FF6692\", \"#B6E880\", \"#FF97FF\", \"#FECB52\"], \"font\": {\"color\": \"#2a3f5f\"}, \"geo\": {\"bgcolor\": \"white\", \"lakecolor\": \"white\", \"landcolor\": \"#E5ECF6\", \"showlakes\": true, \"showland\": true, \"subunitcolor\": \"white\"}, \"hoverlabel\": {\"align\": \"left\"}, \"hovermode\": \"closest\", \"mapbox\": {\"style\": \"light\"}, \"paper_bgcolor\": \"white\", \"plot_bgcolor\": \"#E5ECF6\", \"polar\": {\"angularaxis\": {\"gridcolor\": \"white\", \"linecolor\": \"white\", \"ticks\": \"\"}, \"bgcolor\": \"#E5ECF6\", \"radialaxis\": {\"gridcolor\": \"white\", \"linecolor\": \"white\", \"ticks\": \"\"}}, \"scene\": {\"xaxis\": {\"backgroundcolor\": \"#E5ECF6\", \"gridcolor\": \"white\", \"gridwidth\": 2, \"linecolor\": \"white\", \"showbackground\": true, \"ticks\": \"\", \"zerolinecolor\": \"white\"}, \"yaxis\": {\"backgroundcolor\": \"#E5ECF6\", \"gridcolor\": \"white\", \"gridwidth\": 2, \"linecolor\": \"white\", \"showbackground\": true, \"ticks\": \"\", \"zerolinecolor\": \"white\"}, \"zaxis\": {\"backgroundcolor\": \"#E5ECF6\", \"gridcolor\": \"white\", \"gridwidth\": 2, \"linecolor\": \"white\", \"showbackground\": true, \"ticks\": \"\", \"zerolinecolor\": \"white\"}}, \"shapedefaults\": {\"line\": {\"color\": \"#2a3f5f\"}}, \"ternary\": {\"aaxis\": {\"gridcolor\": \"white\", \"linecolor\": \"white\", \"ticks\": \"\"}, \"baxis\": {\"gridcolor\": \"white\", \"linecolor\": \"white\", \"ticks\": \"\"}, \"bgcolor\": \"#E5ECF6\", \"caxis\": {\"gridcolor\": \"white\", \"linecolor\": \"white\", \"ticks\": \"\"}}, \"title\": {\"x\": 0.05}, \"xaxis\": {\"automargin\": true, \"gridcolor\": \"white\", \"linecolor\": \"white\", \"ticks\": \"\", \"title\": {\"standoff\": 15}, \"zerolinecolor\": \"white\", \"zerolinewidth\": 2}, \"yaxis\": {\"automargin\": true, \"gridcolor\": \"white\", \"linecolor\": \"white\", \"ticks\": \"\", \"title\": {\"standoff\": 15}, \"zerolinecolor\": \"white\", \"zerolinewidth\": 2}}}, \"title\": {\"text\": \"Migration of Elite Mathematicians\"}},\n",
       "                        {\"responsive\": true}\n",
       "                    ).then(function(){\n",
       "                            \n",
       "var gd = document.getElementById('ff2b1cad-c40c-453e-a30e-355daa454886');\n",
       "var x = new MutationObserver(function (mutations, observer) {{\n",
       "        var display = window.getComputedStyle(gd).display;\n",
       "        if (!display || display === 'none') {{\n",
       "            console.log([gd, 'removed!']);\n",
       "            Plotly.purge(gd);\n",
       "            observer.disconnect();\n",
       "        }}\n",
       "}});\n",
       "\n",
       "// Listen for the removal of the full notebook cells\n",
       "var notebookContainer = gd.closest('#notebook-container');\n",
       "if (notebookContainer) {{\n",
       "    x.observe(notebookContainer, {childList: true});\n",
       "}}\n",
       "\n",
       "// Listen for the clearing of the current output cell\n",
       "var outputEl = gd.closest('.output');\n",
       "if (outputEl) {{\n",
       "    x.observe(outputEl, {childList: true});\n",
       "}}\n",
       "\n",
       "                        })\n",
       "                };\n",
       "                });\n",
       "            </script>\n",
       "        </div>"
      ]
     },
     "metadata": {},
     "output_type": "display_data"
    }
   ],
   "source": [
    "fig = go.Figure(data=[go.Sankey(\n",
    "\n",
    "    node = {\n",
    "        \"label\": concaters,\n",
    "#         \"font_size\" : 20,\n",
    "        \"x\": x,\n",
    "        \"y\": y,\n",
    "        'pad':15}, \n",
    "        link = {\n",
    "        \"source\": surs_link,\n",
    "        \"target\": targ_link,\n",
    "        \"value\": vals_link}\n",
    "  )])\n",
    "\n",
    "fig.update_layout(title_text=\"Migration of Elite Mathematicians\", font_size=12)"
   ]
  },
  {
   "cell_type": "markdown",
   "metadata": {},
   "source": [
    "# Pluralism"
   ]
  },
  {
   "cell_type": "code",
   "execution_count": 33,
   "metadata": {},
   "outputs": [],
   "source": [
    "WIKI_FULL = pd.read_pickle(\"data/wiki_fullname.pkl\")\n",
    "Wiki_General = defaultdict(int)\n",
    "Wiki_Specific = defaultdict(int)\n",
    "for i, row in WIKI_FULL.iterrows():\n",
    "    n = row.race\n",
    "    general_region = n.split(\",\")[0] \n",
    "    specif_region  = n.split(\",\")[-1] \n",
    "    if specif_region == \"Jewish\":\n",
    "        n = (row.iloc[4:].sort_values(ascending = False).index[1] )\n",
    "        specif_region  = n.split(\",\")[-1]\n",
    "    if specif_region == \"Muslim\":\n",
    "        specif_region = \"Arabic\"\n",
    "    elif specif_region == \"Hispanic\":\n",
    "        specif_region = \"Spanish\"\n",
    "    elif specif_region == 'British':\n",
    "        specif_region = \"Anglo\"\n",
    "    \n",
    "    Wiki_General[ row.academic_id ]  = general_region\n",
    "    Wiki_Specific[ row.academic_id ] = specif_region"
   ]
  },
  {
   "cell_type": "code",
   "execution_count": 34,
   "metadata": {},
   "outputs": [],
   "source": [
    "id2name = dict(zip(academic.academic_id.values, academic.Full_Name.values))\n",
    "\n",
    "def get_advisor_name(x):\n",
    "    neighbors = list(G.neighbors(x))\n",
    "    if len(neighbors) > 0:\n",
    "        return id2name [ neighbors[0] ]\n",
    "    else:\n",
    "        return \"None\"\n",
    "    \n",
    "ethnic_pairs = [(\"Germany\",\"Germanic\"), (\"United States\",\"Anglo\"),\n",
    "                (\"France\",\"French\"), (\"Russia\",\"EastEuropean\"), (\"Japan\",\"Japanese\")]\n",
    "\n",
    "def pluralism_measure(x):\n",
    "    \"\"\"\n",
    "    1 if country = ethnicity\n",
    "    0 otherwise\n",
    "    \"\"\"\n",
    "    if (x.countries,x.ethnicity) in ethnic_pairs:\n",
    "        return 1\n",
    "    else:\n",
    "        return 0"
   ]
  },
  {
   "cell_type": "code",
   "execution_count": 35,
   "metadata": {
    "collapsed": true
   },
   "outputs": [
    {
     "name": "stderr",
     "output_type": "stream",
     "text": [
      "C:\\Users\\Herbert\\AppData\\Local\\Continuum\\anaconda3\\lib\\site-packages\\ipykernel_launcher.py:1: SettingWithCopyWarning:\n",
      "\n",
      "\n",
      "A value is trying to be set on a copy of a slice from a DataFrame.\n",
      "Try using .loc[row_indexer,col_indexer] = value instead\n",
      "\n",
      "See the caveats in the documentation: http://pandas.pydata.org/pandas-docs/stable/user_guide/indexing.html#returning-a-view-versus-a-copy\n",
      "\n",
      "C:\\Users\\Herbert\\AppData\\Local\\Continuum\\anaconda3\\lib\\site-packages\\ipykernel_launcher.py:2: SettingWithCopyWarning:\n",
      "\n",
      "\n",
      "A value is trying to be set on a copy of a slice from a DataFrame.\n",
      "Try using .loc[row_indexer,col_indexer] = value instead\n",
      "\n",
      "See the caveats in the documentation: http://pandas.pydata.org/pandas-docs/stable/user_guide/indexing.html#returning-a-view-versus-a-copy\n",
      "\n",
      "C:\\Users\\Herbert\\AppData\\Local\\Continuum\\anaconda3\\lib\\site-packages\\ipykernel_launcher.py:3: SettingWithCopyWarning:\n",
      "\n",
      "\n",
      "A value is trying to be set on a copy of a slice from a DataFrame.\n",
      "Try using .loc[row_indexer,col_indexer] = value instead\n",
      "\n",
      "See the caveats in the documentation: http://pandas.pydata.org/pandas-docs/stable/user_guide/indexing.html#returning-a-view-versus-a-copy\n",
      "\n",
      "C:\\Users\\Herbert\\AppData\\Local\\Continuum\\anaconda3\\lib\\site-packages\\ipykernel_launcher.py:4: SettingWithCopyWarning:\n",
      "\n",
      "\n",
      "A value is trying to be set on a copy of a slice from a DataFrame.\n",
      "Try using .loc[row_indexer,col_indexer] = value instead\n",
      "\n",
      "See the caveats in the documentation: http://pandas.pydata.org/pandas-docs/stable/user_guide/indexing.html#returning-a-view-versus-a-copy\n",
      "\n",
      "C:\\Users\\Herbert\\AppData\\Local\\Continuum\\anaconda3\\lib\\site-packages\\ipykernel_launcher.py:10: SettingWithCopyWarning:\n",
      "\n",
      "\n",
      "A value is trying to be set on a copy of a slice from a DataFrame.\n",
      "Try using .loc[row_indexer,col_indexer] = value instead\n",
      "\n",
      "See the caveats in the documentation: http://pandas.pydata.org/pandas-docs/stable/user_guide/indexing.html#returning-a-view-versus-a-copy\n",
      "\n"
     ]
    }
   ],
   "source": [
    "degree3[\"countries\"] = degree3.academic.apply(lambda x: ID2country(x))\n",
    "degree3[\"ethnicity\"] = degree3.academic.apply(lambda x: Wiki_Specific[x])\n",
    "degree3[\"names\"]     = degree3.academic.apply(lambda x: id2name[x])\n",
    "degree3[\"advisers\"]     = degree3.academic.apply(lambda x: get_advisor_name(x))\n",
    "\n",
    "pluralism_index = []\n",
    "for i, r in degree3.iterrows():\n",
    "    pluralism_index.append( pluralism_measure(r)  )\n",
    "\n",
    "degree3[\"pluralism_tag\"] = pluralism_index"
   ]
  },
  {
   "cell_type": "code",
   "execution_count": 36,
   "metadata": {},
   "outputs": [],
   "source": [
    "# people by block\n",
    "B1 = degree3[(degree3.year > periods[0]) & (degree3.year < periods[1])]\n",
    "B2 = degree3[(degree3.year > periods[1]) & (degree3.year < periods[2])]\n",
    "B3 = degree3[(degree3.year > periods[2]) & (degree3.year < periods[3])]\n",
    "B4 = degree3[(degree3.year > periods[3]) & (degree3.year < periods[4])]\n",
    "B5 = degree3[(degree3.year > periods[4]) & (degree3.year < periods[5])]"
   ]
  },
  {
   "cell_type": "code",
   "execution_count": 37,
   "metadata": {},
   "outputs": [],
   "source": [
    "BS = [B1, B2, B3, B4, B5]\n",
    "countries = [i[0] for i in ethnic_pairs]\n",
    "plural_scores = np.zeros((5,5))\n",
    "size = np.zeros((5,5))\n",
    "for i,b in enumerate(BS):\n",
    "    for j,c in enumerate(countries):\n",
    "        plural_scores[i,j] = b[b.countries == c].pluralism_tag.mean()\n",
    "        size[i,j] = len( b[b.countries == c] )"
   ]
  },
  {
   "cell_type": "code",
   "execution_count": null,
   "metadata": {},
   "outputs": [],
   "source": [
    "matplotlib.style.use(\"seaborn-deep\")"
   ]
  },
  {
   "cell_type": "code",
   "execution_count": 38,
   "metadata": {},
   "outputs": [
    {
     "data": {
      "text/plain": [
       "Text(0, 0.5, 'Number of Elites')"
      ]
     },
     "execution_count": 38,
     "metadata": {},
     "output_type": "execute_result"
    },
    {
     "data": {
      "image/png": "[encoded data removed]",
      "text/plain": [
       "<Figure size 1440x576 with 2 Axes>"
      ]
     },
     "metadata": {
      "needs_background": "light"
     },
     "output_type": "display_data"
    }
   ],
   "source": [
    "plt.figure(figsize=(20,8))\n",
    "ticks = [\"1800-1932\", \"32-46\", \"46-65\", \"65-90\", \"90-Pres\"]\n",
    "sns.set_style(\"whitegrid\")\n",
    "width = 0.1\n",
    "\n",
    "plt.subplot(1,2,1)\n",
    "plt.title(\"Level of Pluralism\", fontsize = 20)\n",
    "for i,p in enumerate(plural_scores.T):\n",
    "    plt.bar(np.arange(5)+width*i,1-p, width = width, label = countries[i])\n",
    "# plt.legend(fontsize = 15)\n",
    "plt.xticks(range(5), ticks,fontsize= 20)\n",
    "plt.yticks(fontsize= 20)\n",
    "plt.ylabel(\"Prop. of Non-dom. Ethnicity\",fontsize= 20)\n",
    "\n",
    "plt.subplot(1,2,2)\n",
    "plt.title(\"Volume of Elites\", fontsize = 20)\n",
    "for i,s in enumerate(size.T):\n",
    "    plt.bar(np.arange(5)+width*i,s, width = width, label = countries[i])\n",
    "plt.legend(fontsize = 15)\n",
    "plt.xticks(range(5), ticks,fontsize= 20)\n",
    "plt.yticks(fontsize= 20)\n",
    "plt.ylabel(\"Number of Elites\",fontsize= 20)\n",
    "\n",
    "# plt.savefig(\"figures/pluralism.png\")"
   ]
  },
  {
   "cell_type": "code",
   "execution_count": 39,
   "metadata": {},
   "outputs": [],
   "source": [
    "df_pairings = []\n",
    "for i,b  in enumerate(BS):\n",
    "    pairings = Counter(zip(b.countries.values, b.ethnicity.values))\n",
    "    pairings = pd.DataFrame([[k[0], k[1], v] for k,v in pairings.items()]  , columns =[\"country\",\"ethnicity\",\"count\"])\n",
    "    df_pairings.append( pairings )"
   ]
  },
  {
   "cell_type": "code",
   "execution_count": 40,
   "metadata": {},
   "outputs": [
    {
     "data": {
      "text/html": [
       "<div>\n",
       "<style scoped>\n",
       "    .dataframe tbody tr th:only-of-type {\n",
       "        vertical-align: middle;\n",
       "    }\n",
       "\n",
       "    .dataframe tbody tr th {\n",
       "        vertical-align: top;\n",
       "    }\n",
       "\n",
       "    .dataframe thead th {\n",
       "        text-align: right;\n",
       "    }\n",
       "</style>\n",
       "<table border=\"1\" class=\"dataframe\">\n",
       "  <thead>\n",
       "    <tr style=\"text-align: right;\">\n",
       "      <th></th>\n",
       "      <th>country</th>\n",
       "      <th>ethnicity</th>\n",
       "      <th>count</th>\n",
       "    </tr>\n",
       "  </thead>\n",
       "  <tbody>\n",
       "    <tr>\n",
       "      <td>0</td>\n",
       "      <td>Germany</td>\n",
       "      <td>Germanic</td>\n",
       "      <td>36</td>\n",
       "    </tr>\n",
       "    <tr>\n",
       "      <td>2</td>\n",
       "      <td>Russia</td>\n",
       "      <td>EastEuropean</td>\n",
       "      <td>15</td>\n",
       "    </tr>\n",
       "    <tr>\n",
       "      <td>3</td>\n",
       "      <td>Germany</td>\n",
       "      <td>Anglo</td>\n",
       "      <td>14</td>\n",
       "    </tr>\n",
       "    <tr>\n",
       "      <td>23</td>\n",
       "      <td>France</td>\n",
       "      <td>French</td>\n",
       "      <td>12</td>\n",
       "    </tr>\n",
       "    <tr>\n",
       "      <td>18</td>\n",
       "      <td>Italy</td>\n",
       "      <td>Italian</td>\n",
       "      <td>11</td>\n",
       "    </tr>\n",
       "    <tr>\n",
       "      <td>1</td>\n",
       "      <td>United States</td>\n",
       "      <td>Anglo</td>\n",
       "      <td>10</td>\n",
       "    </tr>\n",
       "    <tr>\n",
       "      <td>11</td>\n",
       "      <td>Germany</td>\n",
       "      <td>French</td>\n",
       "      <td>5</td>\n",
       "    </tr>\n",
       "    <tr>\n",
       "      <td>13</td>\n",
       "      <td>Poland</td>\n",
       "      <td>EastEuropean</td>\n",
       "      <td>5</td>\n",
       "    </tr>\n",
       "  </tbody>\n",
       "</table>\n",
       "</div>"
      ],
      "text/plain": [
       "          country     ethnicity  count\n",
       "0         Germany      Germanic     36\n",
       "2          Russia  EastEuropean     15\n",
       "3         Germany         Anglo     14\n",
       "23         France        French     12\n",
       "18          Italy       Italian     11\n",
       "1   United States         Anglo     10\n",
       "11        Germany        French      5\n",
       "13         Poland  EastEuropean      5"
      ]
     },
     "execution_count": 40,
     "metadata": {},
     "output_type": "execute_result"
    }
   ],
   "source": [
    "for i in df_pairings:\n",
    "    i.sort_values(\"count\", ascending = False, inplace= True)\n",
    "df_pairings[0].iloc[:8]"
   ]
  },
  {
   "cell_type": "code",
   "execution_count": null,
   "metadata": {},
   "outputs": [],
   "source": []
  }
 ],
 "metadata": {
  "kernelspec": {
   "display_name": "Python 3",
   "language": "python",
   "name": "python3"
  },
  "language_info": {
   "codemirror_mode": {
    "name": "ipython",
    "version": 3
   },
   "file_extension": ".py",
   "mimetype": "text/x-python",
   "name": "python",
   "nbconvert_exporter": "python",
   "pygments_lexer": "ipython3",
   "version": "3.7.4"
  }
 },
 "nbformat": 4,
 "nbformat_minor": 2
}
